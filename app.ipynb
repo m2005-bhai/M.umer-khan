{
 "cells": [
  {
   "cell_type": "code",
   "execution_count": null,
   "metadata": {},
   "outputs": [
    {
     "name": "stdout",
     "output_type": "stream",
     "text": [
      "10\n",
      "10\n"
     ]
    }
   ],
   "source": [
    "x=10\n",
    "\n",
    "def my_function():\n",
    "    print(x) #Function ke andar x ko print kar rahe hain\n",
    "\n",
    "my_function() #Function ko call kr rahe hain\n",
    "print(x) #Function ke bahar x ko print kar rahe hain"
   ]
  },
  {
   "cell_type": "code",
   "execution_count": 22,
   "metadata": {},
   "outputs": [
    {
     "name": "stdout",
     "output_type": "stream",
     "text": [
      "a\n"
     ]
    }
   ],
   "source": [
    "def add(a,b):\n",
    "    \"\"\"Return the sum of two numbers\"\"\"\n",
    "    return a+b\n",
    "print(\"a\")"
   ]
  },
  {
   "cell_type": "code",
   "execution_count": 1,
   "metadata": {},
   "outputs": [
    {
     "name": "stdout",
     "output_type": "stream",
     "text": [
      "4\n"
     ]
    }
   ],
   "source": [
    "def addition(num1:int,num2:int):\n",
    "    return num1+num2\n",
    "result=addition(2,2)\n",
    "print(result)"
   ]
  },
  {
   "cell_type": "code",
   "execution_count": null,
   "metadata": {},
   "outputs": [],
   "source": [
    "# Creating a set\n",
    "\n",
    "name_set={\"Ali\",\"Abdullah\",\"Amir\"}\n",
    "\n",
    "#Removing an element using discard()\n",
    "name_set.discard(\"Abdullah\")\n",
    "\n",
    "#Print the updated set\n",
    "print(\"updated names:\",name_set)\n",
    "#Creating numbers sets\n",
    "num_set_1={1,2,3}\n",
    "num_set_2={3,4,5}\n",
    "\n",
    "#Performing union operation\n",
    "result=num_set_1.union(num_set_2)\n",
    "\n",
    "#Printing results\n",
    "print(\"Result>>>\",result)\n",
    "print(type(num_set_1))"
   ]
  },
  {
   "cell_type": "code",
   "execution_count": 1,
   "metadata": {},
   "outputs": [],
   "source": [
    "\n",
    "num_set_1={1,2,3}\n",
    "num_set_2={3,4,5}\n",
    "\n",
    "result=num_set_1.union(num_set_2)"
   ]
  }
 ],
 "metadata": {
  "kernelspec": {
   "display_name": "Python 3",
   "language": "python",
   "name": "python3"
  },
  "language_info": {
   "codemirror_mode": {
    "name": "ipython",
    "version": 3
   },
   "file_extension": ".py",
   "mimetype": "text/x-python",
   "name": "python",
   "nbconvert_exporter": "python",
   "pygments_lexer": "ipython3",
   "version": "3.13.2"
  }
 },
 "nbformat": 4,
 "nbformat_minor": 2
}
