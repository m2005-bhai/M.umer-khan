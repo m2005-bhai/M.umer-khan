{
 "cells": [
  {
   "cell_type": "code",
   "execution_count": 19,
   "metadata": {},
   "outputs": [
    {
     "name": "stdout",
     "output_type": "stream",
     "text": [
      "number is less than 10\n"
     ]
    }
   ],
   "source": [
    "num:int=10\n",
    "if num>10:\n",
    " print(\"number is greater than 10\")\n",
    "\n",
    "else:\n",
    " print(\"number is less than 10\") if num>10 else print(\"number is less than 10\") \n"
   ]
  },
  {
   "cell_type": "code",
   "execution_count": null,
   "metadata": {},
   "outputs": [
    {
     "name": "stdout",
     "output_type": "stream",
     "text": [
      "num>>> 10\n"
     ]
    }
   ],
   "source": [
    "num:5\n",
    "num=10 if num<10 else 5\n",
    "print(\"num>>>\",num)\n",
    "\n",
    "#num 2=agar condition true to value 20 warna value 10.\n",
    "num2 =20 if num<10 else 5\n"
   ]
  },
  {
   "cell_type": "code",
   "execution_count": null,
   "metadata": {},
   "outputs": [],
   "source": [
    "#TOPIC ENUMERATED FUNCTION\n",
    "names=[\"Ali\",\"Abdullah\",\"Amir\"]\n",
    "for name in names:\n",
    "    print(name)\n",
    "# 0,  1,  2\n",
    "print(names[1])\n",
    "\n",
    "#Map filter reduce function numbers=[1,2,3,4,5]\n",
    "\n",
    "\n",
    "\n",
    "\n"
   ]
  },
  {
   "cell_type": "code",
   "execution_count": 3,
   "metadata": {},
   "outputs": [
    {
     "name": "stdout",
     "output_type": "stream",
     "text": [
      "[1, 4, 9, 16, 25]\n"
     ]
    }
   ],
   "source": [
    "numbers =[1,2,3,4,5]\n",
    "\n",
    "#function to square a number\n",
    "\n",
    "def square(num:int):\n",
    "    return num*num\n",
    "# using map () function\n",
    "\n",
    "squared_numbers=list(map(square,numbers))\n",
    "print(squared_numbers)\n",
    "\n",
    "    \n"
   ]
  }
 ],
 "metadata": {
  "kernelspec": {
   "display_name": "Python 3",
   "language": "python",
   "name": "python3"
  },
  "language_info": {
   "codemirror_mode": {
    "name": "ipython",
    "version": 3
   },
   "file_extension": ".py",
   "mimetype": "text/x-python",
   "name": "python",
   "nbconvert_exporter": "python",
   "pygments_lexer": "ipython3",
   "version": "3.13.2"
  }
 },
 "nbformat": 4,
 "nbformat_minor": 2
}
